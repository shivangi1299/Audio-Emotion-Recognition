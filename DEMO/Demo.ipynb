{
 "cells": [
  {
   "cell_type": "code",
   "execution_count": 1,
   "metadata": {},
   "outputs": [],
   "source": [
    "import numpy as np\n",
    "import librosa\n",
    "import pandas as pd\n",
    "import IPython.display as ipd\n",
    "import pickle"
   ]
  },
  {
   "cell_type": "code",
   "execution_count": 2,
   "metadata": {},
   "outputs": [],
   "source": [
    "def findEmotion(fileName):\n",
    "    \n",
    "    emotionMap = {1:'neutral', 2:'calm', 3:'happy', 4:'sad', 5:'angry', 6:'fearful', 7:'disgust', 8:'surprised'}\n",
    "    finalModel = pickle.load(open(\"finalModel.pickle.dat\", \"rb\"))\n",
    "    def featureExtraction(path):\n",
    "        X, sample_rate = librosa.load(path)\n",
    "        stft = np.abs(librosa.stft(X))\n",
    "        mfccs = np.mean(librosa.feature.mfcc(y=X, sr=sample_rate, n_mfcc=40).T,axis=0)\n",
    "        chroma = np.mean(librosa.feature.chroma_stft(S=stft, sr=sample_rate).T,axis=0)\n",
    "        mel = np.mean(librosa.feature.melspectrogram(X, sr=sample_rate).T,axis=0)\n",
    "        contrast = np.mean(librosa.feature.spectral_contrast(S=stft, sr=sample_rate).T,axis=0)\n",
    "        tonnetz = np.mean(librosa.feature.tonnetz(y=librosa.effects.harmonic(X), sr=sample_rate).T,axis=0)\n",
    "        return mfccs, chroma, mel, contrast, tonnetz\n",
    "    cols = ['emotion', 'intensity', 'gender', 'chr_mn', 'chr_std', 'cont_mn', 'cont_std', 'ton_mn', 'ton_std', 'mel02_mn', 'mel02_std', 'mel24_mn', 'mel24_std', 'mel46_mn', 'mel46_std', 'mel68_mn', 'mel68_std']\n",
    "    initDict = dict()\n",
    "    for i in cols:\n",
    "        initDict[i] = list()\n",
    "    df = pd.DataFrame(initDict)\n",
    "    mfccs, chroma, mel, contrast, tonnetz = featureExtraction(fileName)\n",
    "    details = dict()\n",
    "    details['chr_mn'] = np.mean(chroma)\n",
    "    details['chr_std'] = np.std(chroma)\n",
    "    details['cont_mn'] = np.mean(contrast)\n",
    "    details['cont_std'] = np.std(contrast)\n",
    "    details['ton_mn'] = np.mean(tonnetz)\n",
    "    details['ton_std'] = np.std(tonnetz)\n",
    "    details['mel02_mn'] = np.mean(mel[0:20])\n",
    "    details['mel02_std'] = np.std(mel[0:20])\n",
    "    details['mel24_mn'] = np.mean(mel[20:40])\n",
    "    details['mel24_std'] = np.std(mel[20:40])\n",
    "    details['mel46_mn'] = np.mean(mel[40:60])\n",
    "    details['mel46_std'] = np.std(mel[40:60])\n",
    "    details['mel68_mn'] = np.mean(mel[60:80])\n",
    "    details['mel68_std'] = np.std(mel[60:80])\n",
    "    df = df.append(details, ignore_index=True)\n",
    "    X = df[list(df.columns)[3:]]\n",
    "    X_test = np.asarray(X)\n",
    "    y_pred = finalModel.predict(X_test)\n",
    "    return(emotionMap[int(y_pred)])"
   ]
  },
  {
   "cell_type": "code",
   "execution_count": 3,
   "metadata": {},
   "outputs": [
    {
     "name": "stdout",
     "output_type": "stream",
     "text": [
      "The Predicted Output is :  angry\n"
     ]
    }
   ],
   "source": [
    "fileName = \"./sampleAudioFiles/angry.wav\"\n",
    "\n",
    "ipd.Audio(fileName)\n",
    "\n",
    "output = findEmotion(fileName)\n",
    "\n",
    "print(\"The Predicted Output is : \", output)"
   ]
  },
  {
   "cell_type": "code",
   "execution_count": 4,
   "metadata": {},
   "outputs": [
    {
     "name": "stdout",
     "output_type": "stream",
     "text": [
      "The Predicted Output is :  sad\n"
     ]
    }
   ],
   "source": [
    "fileName = \"./sampleAudioFiles/sad.wav\"\n",
    "\n",
    "ipd.Audio(fileName)\n",
    "\n",
    "output = findEmotion(fileName)\n",
    "\n",
    "print(\"The Predicted Output is : \", output)"
   ]
  },
  {
   "cell_type": "code",
   "execution_count": null,
   "metadata": {},
   "outputs": [],
   "source": []
  }
 ],
 "metadata": {
  "kernelspec": {
   "display_name": "Python 3",
   "language": "python",
   "name": "python3"
  },
  "language_info": {
   "codemirror_mode": {
    "name": "ipython",
    "version": 3
   },
   "file_extension": ".py",
   "mimetype": "text/x-python",
   "name": "python",
   "nbconvert_exporter": "python",
   "pygments_lexer": "ipython3",
   "version": "3.7.1"
  }
 },
 "nbformat": 4,
 "nbformat_minor": 2
}
