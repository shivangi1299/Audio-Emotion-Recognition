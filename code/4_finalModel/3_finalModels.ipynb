{
 "cells": [
  {
   "cell_type": "code",
   "execution_count": 17,
   "metadata": {},
   "outputs": [],
   "source": [
    "import numpy as np\n",
    "import pandas as pd\n",
    "from sklearn.model_selection import train_test_split\n",
    "from sklearn.tree import DecisionTreeClassifier\n",
    "from sklearn.metrics import classification_report,confusion_matrix\n",
    "from sklearn import metrics\n",
    "from sklearn.model_selection import cross_val_score\n",
    "from sklearn import preprocessing\n",
    "from sklearn.ensemble import RandomForestClassifier\n",
    "from sklearn.ensemble import ExtraTreesClassifier\n",
    "from sklearn.ensemble import AdaBoostClassifier\n",
    "from sklearn.ensemble import GradientBoostingClassifier\n",
    "from sklearn.ensemble import BaggingClassifier\n",
    "from xgboost import XGBClassifier\n",
    "from sklearn import svm\n",
    "from sklearn.neural_network import MLPClassifier"
   ]
  },
  {
   "cell_type": "code",
   "execution_count": 2,
   "metadata": {},
   "outputs": [],
   "source": [
    "df = pd.read_csv('C:/Users/grees/OneDrive/Documents/Computer Science/Data Analytics/Audio-Emotion-Recognition/extractedData/details.csv')"
   ]
  },
  {
   "cell_type": "code",
   "execution_count": 3,
   "metadata": {},
   "outputs": [],
   "source": [
    "X = df[list(df.columns)[3:]] #to get the relevant columnns (tonnetz, MFCC, chroma etc.)\n",
    "X = preprocessing.normalize(X) #to normalize the data\n",
    "y = df['emotion']\n",
    "X = np.asarray(X)\n",
    "y = np.asarray(y)\n",
    "#X.shape, y.shape"
   ]
  },
  {
   "cell_type": "code",
   "execution_count": 4,
   "metadata": {},
   "outputs": [],
   "source": [
    "X_train, X_test, y_train, y_test = train_test_split(X, y, test_size=0.25, random_state=42)\n",
    "#to split data into training and testing => 75:25 ratio"
   ]
  },
  {
   "cell_type": "code",
   "execution_count": 5,
   "metadata": {},
   "outputs": [
    {
     "name": "stdout",
     "output_type": "stream",
     "text": [
      "              precision    recall  f1-score   support\n",
      "\n",
      "         1.0       0.35      0.32      0.33        22\n",
      "         2.0       0.54      0.52      0.53        56\n",
      "         3.0       0.23      0.29      0.26        42\n",
      "         4.0       0.45      0.40      0.43        50\n",
      "         5.0       0.41      0.52      0.46        50\n",
      "         6.0       0.38      0.51      0.44        39\n",
      "         7.0       0.37      0.28      0.32        46\n",
      "         8.0       0.41      0.29      0.34        55\n",
      "\n",
      "   micro avg       0.40      0.40      0.40       360\n",
      "   macro avg       0.39      0.39      0.39       360\n",
      "weighted avg       0.40      0.40      0.40       360\n",
      "\n",
      "Confusion matrix for decision trees:\n",
      "[[ 7  7  1  3  1  1  2  0]\n",
      " [ 5 29  4 12  2  1  2  1]\n",
      " [ 0  1 12  2 14  0  6  7]\n",
      " [ 4  9  7 20  1  4  3  2]\n",
      " [ 0  0  7  1 26  9  2  5]\n",
      " [ 0  2 10  1  3 20  1  2]\n",
      " [ 0  3  6  2  9  7 13  6]\n",
      " [ 4  3  5  3  8 10  6 16]]\n",
      "Accuracy: 0.27 (+/- 0.04)\n"
     ]
    }
   ],
   "source": [
    "#decision tree classifier\n",
    "dtree = DecisionTreeClassifier()\n",
    "dtree.fit(X_train, y_train)\n",
    "predictions = dtree.predict(X_test)\n",
    "accuracy=metrics.accuracy_score(y_test, predictions)\n",
    "print(classification_report(y_test,predictions))\n",
    "print(\"Confusion matrix for decision trees:\")\n",
    "print(confusion_matrix(y_test,predictions))\n",
    "scores1 = cross_val_score(dtree, X, y, cv=10)\n",
    "print(\"Accuracy: %0.2f (+/- %0.2f)\" % (scores1.mean(), scores1.std()))"
   ]
  },
  {
   "cell_type": "code",
   "execution_count": 6,
   "metadata": {},
   "outputs": [
    {
     "name": "stdout",
     "output_type": "stream",
     "text": [
      "              precision    recall  f1-score   support\n",
      "\n",
      "         1.0       0.27      0.32      0.29        22\n",
      "         2.0       0.53      0.73      0.62        56\n",
      "         3.0       0.27      0.43      0.33        42\n",
      "         4.0       0.31      0.26      0.28        50\n",
      "         5.0       0.58      0.50      0.54        50\n",
      "         6.0       0.57      0.51      0.54        39\n",
      "         7.0       0.29      0.22      0.25        46\n",
      "         8.0       0.50      0.33      0.40        55\n",
      "\n",
      "   micro avg       0.42      0.42      0.42       360\n",
      "   macro avg       0.42      0.41      0.41       360\n",
      "weighted avg       0.43      0.42      0.42       360\n",
      "\n",
      "Confusion matrix for random forest:\n",
      "[[ 7  9  2  2  0  0  2  0]\n",
      " [ 3 41  0  9  0  0  3  0]\n",
      " [ 2  2 18  2  4  8  3  3]\n",
      " [ 4 17  6 13  2  1  3  4]\n",
      " [ 1  0 10  2 25  1  6  5]\n",
      " [ 2  0  7  3  4 20  1  2]\n",
      " [ 4  4 13  6  3  2 10  4]\n",
      " [ 3  4 11  5  5  3  6 18]]\n",
      "Accuracy: 0.31 (+/- 0.02)\n"
     ]
    }
   ],
   "source": [
    "#random forest classifier\n",
    "rfor = RandomForestClassifier(n_estimators=10, random_state = 45)\n",
    "rfor = rfor.fit(X_train, y_train)\n",
    "predictions2 = rfor.predict(X_test)\n",
    "print(classification_report(y_test,predictions2))\n",
    "accuracy=metrics.accuracy_score(y_test, predictions2)\n",
    "print(\"Confusion matrix for random forest:\")\n",
    "print(confusion_matrix(y_test,predictions2))\n",
    "scores2 = cross_val_score(rfor, X, y, cv=5)      \n",
    "print(\"Accuracy: %0.2f (+/- %0.2f)\" % (scores2.mean(), scores2.std()))"
   ]
  },
  {
   "cell_type": "code",
   "execution_count": 7,
   "metadata": {},
   "outputs": [
    {
     "name": "stdout",
     "output_type": "stream",
     "text": [
      "              precision    recall  f1-score   support\n",
      "\n",
      "         1.0       0.35      0.50      0.42        22\n",
      "         2.0       0.48      0.59      0.53        56\n",
      "         3.0       0.18      0.24      0.20        42\n",
      "         4.0       0.28      0.22      0.24        50\n",
      "         5.0       0.47      0.52      0.50        50\n",
      "         6.0       0.36      0.41      0.39        39\n",
      "         7.0       0.35      0.24      0.29        46\n",
      "         8.0       0.33      0.20      0.25        55\n",
      "\n",
      "   micro avg       0.36      0.36      0.36       360\n",
      "   macro avg       0.35      0.36      0.35       360\n",
      "weighted avg       0.36      0.36      0.35       360\n",
      "\n",
      "Confusion matrix for Extra Trees Classifier:\n",
      "[[ 7  9  2  2  0  0  2  0]\n",
      " [ 3 41  0  9  0  0  3  0]\n",
      " [ 2  2 18  2  4  8  3  3]\n",
      " [ 4 17  6 13  2  1  3  4]\n",
      " [ 1  0 10  2 25  1  6  5]\n",
      " [ 2  0  7  3  4 20  1  2]\n",
      " [ 4  4 13  6  3  2 10  4]\n",
      " [ 3  4 11  5  5  3  6 18]]\n",
      "\n",
      "Accuracy for Extra Trees: 0.31 (+/- 0.02)\n"
     ]
    }
   ],
   "source": [
    "#Extra trees classifier\n",
    "clf = ExtraTreesClassifier(n_estimators=10, max_depth=None,min_samples_split=2, random_state=45)\n",
    "clf.fit(X_train, y_train)\n",
    "predictions6 = clf.predict(X_test)\n",
    "accuracy=metrics.accuracy_score(y_test, predictions6)\n",
    "print(classification_report(y_test,predictions6))\n",
    "print(\"Confusion matrix for Extra Trees Classifier:\")\n",
    "print(confusion_matrix(y_test,predictions2))\n",
    "scores3 = cross_val_score(clf, X, y, cv=10)\n",
    "print(\"\\nAccuracy for Extra Trees: %0.2f (+/- %0.2f)\" % (scores3.mean(), scores3.std()))"
   ]
  },
  {
   "cell_type": "code",
   "execution_count": 8,
   "metadata": {},
   "outputs": [
    {
     "name": "stdout",
     "output_type": "stream",
     "text": [
      "              precision    recall  f1-score   support\n",
      "\n",
      "         1.0       0.00      0.00      0.00        22\n",
      "         2.0       0.46      0.62      0.53        56\n",
      "         3.0       0.08      0.07      0.08        42\n",
      "         4.0       0.27      0.20      0.23        50\n",
      "         5.0       0.32      0.74      0.45        50\n",
      "         6.0       0.08      0.05      0.06        39\n",
      "         7.0       0.30      0.39      0.34        46\n",
      "         8.0       0.67      0.07      0.13        55\n",
      "\n",
      "   micro avg       0.30      0.30      0.30       360\n",
      "   macro avg       0.27      0.27      0.23       360\n",
      "weighted avg       0.31      0.30      0.26       360\n",
      "\n",
      "Confusion matrix for AdaBoost Classifier:\n",
      "[[ 7  9  2  2  0  0  2  0]\n",
      " [ 3 41  0  9  0  0  3  0]\n",
      " [ 2  2 18  2  4  8  3  3]\n",
      " [ 4 17  6 13  2  1  3  4]\n",
      " [ 1  0 10  2 25  1  6  5]\n",
      " [ 2  0  7  3  4 20  1  2]\n",
      " [ 4  4 13  6  3  2 10  4]\n",
      " [ 3  4 11  5  5  3  6 18]]\n",
      "\n",
      "Accuracy for AdaBoost: 0.27 (+/- 0.03)\n"
     ]
    }
   ],
   "source": [
    "#AdaBoost Classifier\n",
    "clf = AdaBoostClassifier(n_estimators=20)\n",
    "clf.fit(X_train, y_train)\n",
    "predictions7 = clf.predict(X_test)\n",
    "accuracy=metrics.accuracy_score(y_test, predictions7)\n",
    "print(classification_report(y_test,predictions7))\n",
    "print(\"Confusion matrix for AdaBoost Classifier:\")\n",
    "print(confusion_matrix(y_test,predictions2))\n",
    "scores4 = cross_val_score(clf, X, y, cv=10)\n",
    "print(\"\\nAccuracy for AdaBoost: %0.2f (+/- %0.2f)\" % (scores4.mean(), scores4.std()))"
   ]
  },
  {
   "cell_type": "code",
   "execution_count": 9,
   "metadata": {},
   "outputs": [
    {
     "name": "stdout",
     "output_type": "stream",
     "text": [
      "              precision    recall  f1-score   support\n",
      "\n",
      "         1.0       0.00      0.00      0.00        22\n",
      "         2.0       0.47      0.82      0.60        56\n",
      "         3.0       0.26      0.36      0.30        42\n",
      "         4.0       0.50      0.28      0.36        50\n",
      "         5.0       0.62      0.48      0.54        50\n",
      "         6.0       0.46      0.33      0.39        39\n",
      "         7.0       0.36      0.46      0.40        46\n",
      "         8.0       0.37      0.29      0.33        55\n",
      "\n",
      "   micro avg       0.41      0.41      0.41       360\n",
      "   macro avg       0.38      0.38      0.36       360\n",
      "weighted avg       0.41      0.41      0.40       360\n",
      "\n",
      "Confusion matrix for gradient boosting:\n",
      "[[ 0 18  1  0  0  0  2  1]\n",
      " [ 3 46  2  3  0  0  2  0]\n",
      " [ 1  2 15  2  7  2  8  5]\n",
      " [ 0 20  3 14  0  1  6  6]\n",
      " [ 0  1  9  0 24  3  5  8]\n",
      " [ 0  2  7  4  7 13  4  2]\n",
      " [ 1  5  8  3  1  2 21  5]\n",
      " [ 4  4 12  2  0  7 10 16]]\n",
      "Accuracy: 0.32 (+/- 0.03)\n"
     ]
    }
   ],
   "source": [
    "#Gradient boosting classifier\n",
    "gb_clf = GradientBoostingClassifier(n_estimators=20, learning_rate=0.05, max_features=2, max_depth=2, random_state=0)\n",
    "gb = gb_clf.fit(X_train, y_train)\n",
    "predictions5 = gb.predict(X_test)\n",
    "print(classification_report(y_test,predictions5))\n",
    "accuracy=metrics.accuracy_score(y_test, predictions5)\n",
    "print(\"Confusion matrix for gradient boosting:\")\n",
    "print(confusion_matrix(y_test,predictions5))\n",
    "scores5 = cross_val_score(gb_clf, X, y, cv=10)\n",
    "print(\"Accuracy: %0.2f (+/- %0.2f)\" % (scores5.mean(), scores5.std()))"
   ]
  },
  {
   "cell_type": "code",
   "execution_count": 10,
   "metadata": {},
   "outputs": [
    {
     "name": "stdout",
     "output_type": "stream",
     "text": [
      "              precision    recall  f1-score   support\n",
      "\n",
      "         1.0       0.33      0.36      0.35        22\n",
      "         2.0       0.46      0.59      0.52        56\n",
      "         3.0       0.19      0.36      0.25        42\n",
      "         4.0       0.25      0.18      0.21        50\n",
      "         5.0       0.50      0.58      0.54        50\n",
      "         6.0       0.39      0.31      0.34        39\n",
      "         7.0       0.22      0.15      0.18        46\n",
      "         8.0       0.41      0.22      0.29        55\n",
      "\n",
      "   micro avg       0.35      0.35      0.35       360\n",
      "   macro avg       0.34      0.34      0.33       360\n",
      "weighted avg       0.35      0.35      0.34       360\n",
      "\n",
      "Confusion matrix for bagging with Decision Trees:\n",
      "[[ 8  9  0  1  1  0  2  1]\n",
      " [ 5 33  6  8  0  1  3  0]\n",
      " [ 1  3 15  5  7  4  3  4]\n",
      " [ 3 15  5  9  4  3  9  2]\n",
      " [ 1  0 11  2 29  1  1  5]\n",
      " [ 1  3 11  5  7 12  0  0]\n",
      " [ 2  6 14  4  4  4  7  5]\n",
      " [ 3  3 16  2  6  6  7 12]]\n",
      "\n",
      "Accuracy after bagging with Decision Trees: 0.27 (+/- 0.01)\n"
     ]
    }
   ],
   "source": [
    "#Bagging using Decision Trees\n",
    "bagging = BaggingClassifier(DecisionTreeClassifier(), max_samples=0.3, max_features=0.7) #more dependent on features than samples\n",
    "bagging.fit(X_train, y_train)\n",
    "predictions3 = bagging.predict(X_test)\n",
    "accuracy=metrics.accuracy_score(y_test, predictions3)\n",
    "print(classification_report(y_test,predictions3))\n",
    "print(\"Confusion matrix for bagging with Decision Trees:\")\n",
    "print(confusion_matrix(y_test,predictions3))\n",
    "scores6 = cross_val_score(bagging, X, y, cv=10)\n",
    "print(\"\\nAccuracy after bagging with Decision Trees: %0.2f (+/- %0.2f)\" % (scores6.mean(), scores6.std()))"
   ]
  },
  {
   "cell_type": "code",
   "execution_count": 11,
   "metadata": {},
   "outputs": [
    {
     "name": "stdout",
     "output_type": "stream",
     "text": [
      "              precision    recall  f1-score   support\n",
      "\n",
      "         1.0       0.33      0.27      0.30        22\n",
      "         2.0       0.49      0.66      0.56        56\n",
      "         3.0       0.27      0.36      0.31        42\n",
      "         4.0       0.40      0.34      0.37        50\n",
      "         5.0       0.54      0.52      0.53        50\n",
      "         6.0       0.59      0.41      0.48        39\n",
      "         7.0       0.32      0.35      0.33        46\n",
      "         8.0       0.47      0.36      0.41        55\n",
      "\n",
      "   micro avg       0.42      0.42      0.42       360\n",
      "   macro avg       0.43      0.41      0.41       360\n",
      "weighted avg       0.43      0.42      0.42       360\n",
      "\n",
      "Confusion matrix for decision trees:\n",
      "[[ 6  9  0  3  0  0  4  0]\n",
      " [ 3 37  1  8  0  0  7  0]\n",
      " [ 1  3 15  4  9  1  5  4]\n",
      " [ 1 16  3 17  0  3  4  6]\n",
      " [ 0  1 11  0 26  2  4  6]\n",
      " [ 1  3  6  4  4 16  2  3]\n",
      " [ 2  6  8  6  3  1 16  4]\n",
      " [ 4  1 11  1  6  4  8 20]]\n",
      "Accuracy: 0.33 (+/- 0.04)\n"
     ]
    }
   ],
   "source": [
    "xg = XGBClassifier()\n",
    "xg.fit(X_train, y_train)\n",
    "predictions4 = xg.predict(X_test)\n",
    "accuracy=metrics.accuracy_score(y_test, predictions4)\n",
    "print(classification_report(y_test,predictions4))\n",
    "print(\"Confusion matrix for decision trees:\")\n",
    "print(confusion_matrix(y_test,predictions4))\n",
    "scores7 = cross_val_score(xg, X, y, cv=10)\n",
    "print(\"Accuracy: %0.2f (+/- %0.2f)\" % (scores7.mean(), scores7.std()))"
   ]
  },
  {
   "cell_type": "code",
   "execution_count": 20,
   "metadata": {},
   "outputs": [
    {
     "name": "stdout",
     "output_type": "stream",
     "text": [
      "              precision    recall  f1-score   support\n",
      "\n",
      "         1.0       0.00      0.00      0.00        22\n",
      "         2.0       0.18      1.00      0.31        56\n",
      "         3.0       0.00      0.00      0.00        42\n",
      "         4.0       0.00      0.00      0.00        50\n",
      "         5.0       0.86      0.48      0.62        50\n",
      "         6.0       0.67      0.21      0.31        39\n",
      "         7.0       0.00      0.00      0.00        46\n",
      "         8.0       0.00      0.00      0.00        55\n",
      "\n",
      "   micro avg       0.24      0.24      0.24       360\n",
      "   macro avg       0.21      0.21      0.15       360\n",
      "weighted avg       0.22      0.24      0.17       360\n",
      "\n",
      "Confusion matrix for SVM:\n",
      "[[ 0 22  0  0  0  0  0  0]\n",
      " [ 0 56  0  0  0  0  0  0]\n",
      " [ 0 37  0  0  0  1  4  0]\n",
      " [ 0 50  0  0  0  0  0  0]\n",
      " [ 0 21  0  0 24  2  2  1]\n",
      " [ 0 21  0  2  4  8  4  0]\n",
      " [ 0 46  0  0  0  0  0  0]\n",
      " [ 0 52  0  0  0  1  2  0]]\n"
     ]
    },
    {
     "name": "stderr",
     "output_type": "stream",
     "text": [
      "C:\\Users\\grees\\Anaconda3\\lib\\site-packages\\sklearn\\metrics\\classification.py:1143: UndefinedMetricWarning: Precision and F-score are ill-defined and being set to 0.0 in labels with no predicted samples.\n",
      "  'precision', 'predicted', average, warn_for)\n"
     ]
    },
    {
     "name": "stdout",
     "output_type": "stream",
     "text": [
      "Accuracy: 0.19 (+/- 0.03)\n"
     ]
    }
   ],
   "source": [
    "clf = svm.SVC(kernel=\"linear\")\n",
    "clf.fit(X, y)\n",
    "predictions8 = clf.predict(X_test)\n",
    "print(classification_report(y_test,predictions8))\n",
    "accuracy=metrics.accuracy_score(y_test, predictions8)\n",
    "print(\"Confusion matrix for SVM:\")\n",
    "print(confusion_matrix(y_test,predictions8))\n",
    "scores8 = cross_val_score(clf, X, y, cv=10)\n",
    "print(\"Accuracy: %0.2f (+/- %0.2f)\" % (scores8.mean(), scores8.std()))"
   ]
  },
  {
   "cell_type": "code",
   "execution_count": 19,
   "metadata": {},
   "outputs": [
    {
     "name": "stderr",
     "output_type": "stream",
     "text": [
      "C:\\Users\\grees\\Anaconda3\\lib\\site-packages\\sklearn\\metrics\\classification.py:1143: UndefinedMetricWarning: Precision and F-score are ill-defined and being set to 0.0 in labels with no predicted samples.\n",
      "  'precision', 'predicted', average, warn_for)\n"
     ]
    },
    {
     "name": "stdout",
     "output_type": "stream",
     "text": [
      "              precision    recall  f1-score   support\n",
      "\n",
      "         1.0       0.00      0.00      0.00        22\n",
      "         2.0       0.33      0.91      0.49        56\n",
      "         3.0       0.30      0.19      0.23        42\n",
      "         4.0       0.12      0.18      0.15        50\n",
      "         5.0       0.54      0.58      0.56        50\n",
      "         6.0       0.25      0.08      0.12        39\n",
      "         7.0       0.00      0.00      0.00        46\n",
      "         8.0       0.24      0.15      0.18        55\n",
      "\n",
      "   micro avg       0.30      0.30      0.30       360\n",
      "   macro avg       0.22      0.26      0.22       360\n",
      "weighted avg       0.24      0.30      0.24       360\n",
      "\n",
      "Confusion matrix for ANN:\n",
      "[[ 0 18  0  4  0  0  0  0]\n",
      " [ 0 51  0  4  0  0  0  1]\n",
      " [ 0 11  8  7  6  5  1  4]\n",
      " [ 0 34  0  9  0  0  1  6]\n",
      " [ 0  1  5  6 29  0  0  9]\n",
      " [ 0  8  5  3 16  3  1  3]\n",
      " [ 0 19  5 18  0  1  0  3]\n",
      " [ 0 11  4 23  3  3  3  8]]\n",
      "Accuracy: 0.26 (+/- 0.04)\n"
     ]
    }
   ],
   "source": [
    "clf = MLPClassifier(solver='lbfgs', alpha=1e-5,hidden_layer_sizes=(5, 2), random_state=1)\n",
    "clf.fit(X, y)\n",
    "predictions8 = clf.predict(X_test)\n",
    "print(classification_report(y_test,predictions8))\n",
    "accuracy=metrics.accuracy_score(y_test, predictions8)\n",
    "print(\"Confusion matrix for ANN:\")\n",
    "print(confusion_matrix(y_test,predictions8))\n",
    "scores8 = cross_val_score(clf, X, y, cv=10)\n",
    "print(\"Accuracy: %0.2f (+/- %0.2f)\" % (scores8.mean(), scores8.std()))"
   ]
  }
 ],
 "metadata": {
  "kernelspec": {
   "display_name": "Python 3",
   "language": "python",
   "name": "python3"
  },
  "language_info": {
   "codemirror_mode": {
    "name": "ipython",
    "version": 3
   },
   "file_extension": ".py",
   "mimetype": "text/x-python",
   "name": "python",
   "nbconvert_exporter": "python",
   "pygments_lexer": "ipython3",
   "version": "3.7.3"
  }
 },
 "nbformat": 4,
 "nbformat_minor": 2
}
